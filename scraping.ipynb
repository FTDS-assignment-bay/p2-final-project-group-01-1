{
 "cells": [
  {
   "cell_type": "code",
   "execution_count": 127,
   "metadata": {},
   "outputs": [],
   "source": [
    "import pandas as pd\n",
    "from selenium.webdriver.common.by import By\n",
    "from selenium.webdriver.support.ui import WebDriverWait\n",
    "from selenium.webdriver.support import expected_conditions as EC\n",
    "from bs4 import BeautifulSoup\n",
    "from selenium import webdriver\n",
    "import time\n",
    "import numpy as numpy"
   ]
  },
  {
   "cell_type": "code",
   "execution_count": 129,
   "metadata": {},
   "outputs": [
    {
     "name": "stdout",
     "output_type": "stream",
     "text": [
      "Scraping complete.\n"
     ]
    }
   ],
   "source": [
    "driver = webdriver.Chrome()\n",
    "\n",
    "names, prices, num_products, ratings_overall, solds = [], [], [], [], []\n",
    "ratings, reviews, num_products1 = [], [], []\n",
    "\n",
    "url = 'https://www.tokopedia.com/asus-mobile/etalase/zenfone'\n",
    "driver.get(url)\n",
    "\n",
    "# Scroll to load products\n",
    "for scroll in range(6):\n",
    "    driver.execute_script(\"window.scrollBy(0,1000)\")\n",
    "    time.sleep(1)\n",
    "\n",
    "html = driver.page_source\n",
    "soup = BeautifulSoup(html, 'html.parser')\n",
    "\n",
    "products = 1\n",
    "pro = 1\n",
    "for x in soup.find_all('div', {'class': 'css-1sn1xa2'}):\n",
    "    try:\n",
    "        # Get product name and price\n",
    "        name = x.find('div', {'class': 'prd_link-product-name css-3um8ox'})\n",
    "        price = x.find('div', {'class': 'prd_link-product-price css-h66vau'})\n",
    "        rating_overall = x.find('span', {'class' : 'prd_rating-average-text css-t70v7i'})\n",
    "        sold = x.find('span', {'class': 'prd_label-integrity css-1sgek4h'})\n",
    "\n",
    "        names.append(name.get_text() if name else None)\n",
    "        prices.append(price.get_text() if price else None)\n",
    "        ratings_overall.append(rating_overall.get_text() if rating_overall else None)\n",
    "        solds.append(sold.get_text() if sold else None)\n",
    "        num_products.append(products)\n",
    "        products += 1\n",
    "        \n",
    "        # Navigate to product page\n",
    "        link = x.find('a')['href']\n",
    "        \n",
    "        if link:\n",
    "            driver.get(link)\n",
    "            \n",
    "            # Scroll reviews\n",
    "            for scroll in range(20):\n",
    "                driver.execute_script(\"window.scrollBy(0,300)\")\n",
    "                time.sleep(1)\n",
    "\n",
    "            html = driver.page_source\n",
    "            soup = BeautifulSoup(html, 'html.parser')\n",
    "\n",
    "            # Ratings and reviews\n",
    "            for z in soup.find_all('div', {'class': \"css-1k41fl7\"}):\n",
    "                rating = z.find('div', {'data-testid': 'icnStarRating'})\n",
    "                review = z.find('span', {'data-testid': 'lblItemUlasan'})\n",
    "                \n",
    "                ratings.append(rating.get(\"aria-label\") if rating else None)\n",
    "                reviews.append(review.get_text() if review else None)\n",
    "                num_products1.append(pro)\n",
    "\n",
    "\n",
    "            pro += 1\n",
    "            \n",
    "    \n",
    "    except Exception as e:\n",
    "        print(f\"Error: {e}\")\n",
    "        continue\n",
    "\n",
    "driver.quit()\n",
    "print('Scraping complete.')\n"
   ]
  },
  {
   "cell_type": "code",
   "execution_count": 133,
   "metadata": {},
   "outputs": [],
   "source": [
    "def clean_analyst(data):\n",
    "    data = data.dropna()\n",
    "    data['price'] = [number[2:] for number in data.price]\n",
    "    data['price'] = [number.replace('.', '') for number in data.price]\n",
    "    data['sold'] = [number.replace('+ terjual', '') for number in data.sold]\n",
    "    data['sold'] = [number.replace(' terjual', '') for number in data.sold]\n",
    "    \n",
    "    for number in data.sold:\n",
    "        k = ['1rb', '2rb', '3rb', '4rb', '5rb', '6rb', '7rb', '8rb', '9rb', '10rb']\n",
    "        if number in k:\n",
    "            data['sold'] = data['sold'].replace(number, number[:1] + '000')\n",
    "    return data\n",
    "\n",
    "def clean_review(df):\n",
    "    df = df.dropna()\n",
    "    df['rating'] = df['rating'].str.extract(r'bintang (\\d+\\.?\\d*)')\n",
    "    df['brand'] = ['realme' for i in range(len(df['rating']))]\n",
    "    df['rating'] = df['rating'].astype(int)\n",
    "    df['rating_label'] = df['rating'].apply(\n",
    "        lambda x: 'bad' if x < 3 else ('neutral' if x == 3 else 'good')\n",
    "    )\n",
    "    return df"
   ]
  },
  {
   "cell_type": "code",
   "execution_count": null,
   "metadata": {},
   "outputs": [],
   "source": [
    "data['ram'] = data['name'].str.extract(r'(\\d+/)')\n",
    "data['ram'] = data['ram'].fillna(data['name'].str.extract(r'(\\d+GB\\+)').iloc[:, 0])\n",
    "data['ram'] = data['ram'].fillna(data['name'].str.extract(r'(\\d+\\+)').iloc[:, 0])\n",
    "data['ram'] = data['ram'].fillna(data['name'].str.extract(r'(\\d+GB/)').iloc[:, 0])\n",
    "data['ram'] = data['ram'].fillna('8')\n",
    "# data['ram'] = [number.replace('256GB', '8') for number in data.ram]\n",
    "data['ram'] = [number.replace('/', '') for number in data.ram]\n",
    "data['ram'] = [number.replace('+', '') for number in data.ram]\n",
    "data['ram'] = [number.replace('GB', '') for number in data.ram]\n",
    "\n",
    "# data['rom'] = data['name'].str.extract(r'(\\+\\d+GB)')\n",
    "data['rom'] = data['name'].str.extract(r'(/\\d+GB)')\n",
    "data['rom'] = data['rom'].fillna(data['name'].str.extract(r'(\\+\\d+GB)').iloc[:, 0])\n",
    "data['rom'] = data['rom'].fillna('/32')\n",
    "data['rom'] = [number[1:] for number in data['rom']]\n",
    "data['rom'] = [number.replace('GB', '') for number in data.rom]"
   ]
  },
  {
   "cell_type": "code",
   "execution_count": 130,
   "metadata": {},
   "outputs": [
    {
     "name": "stdout",
     "output_type": "stream",
     "text": [
      "15\n",
      "15\n",
      "15\n",
      "15\n",
      "15\n"
     ]
    }
   ],
   "source": [
    "print(len(names))\n",
    "print(len(prices))\n",
    "print(len(num_products))\n",
    "print(len(ratings_overall))\n",
    "print(len(solds))"
   ]
  },
  {
   "cell_type": "code",
   "execution_count": 134,
   "metadata": {},
   "outputs": [
    {
     "data": {
      "text/html": [
       "<div>\n",
       "<style scoped>\n",
       "    .dataframe tbody tr th:only-of-type {\n",
       "        vertical-align: middle;\n",
       "    }\n",
       "\n",
       "    .dataframe tbody tr th {\n",
       "        vertical-align: top;\n",
       "    }\n",
       "\n",
       "    .dataframe thead th {\n",
       "        text-align: right;\n",
       "    }\n",
       "</style>\n",
       "<table border=\"1\" class=\"dataframe\">\n",
       "  <thead>\n",
       "    <tr style=\"text-align: right;\">\n",
       "      <th></th>\n",
       "      <th>product_id</th>\n",
       "      <th>name</th>\n",
       "      <th>price</th>\n",
       "      <th>rating</th>\n",
       "      <th>sold</th>\n",
       "    </tr>\n",
       "  </thead>\n",
       "  <tbody>\n",
       "    <tr>\n",
       "      <th>0</th>\n",
       "      <td>1</td>\n",
       "      <td>Asus Zenfone 10 8/128GB - Starry Blue</td>\n",
       "      <td>8999000</td>\n",
       "      <td>4.8</td>\n",
       "      <td>60</td>\n",
       "    </tr>\n",
       "    <tr>\n",
       "      <th>1</th>\n",
       "      <td>2</td>\n",
       "      <td>Asus Zenfone 10 8/128GB - Aurora Green</td>\n",
       "      <td>8999000</td>\n",
       "      <td>4.9</td>\n",
       "      <td>60</td>\n",
       "    </tr>\n",
       "    <tr>\n",
       "      <th>2</th>\n",
       "      <td>3</td>\n",
       "      <td>Asus Zenfone 10 8/128GB - Eclipse Red</td>\n",
       "      <td>8999000</td>\n",
       "      <td>5.0</td>\n",
       "      <td>70</td>\n",
       "    </tr>\n",
       "    <tr>\n",
       "      <th>3</th>\n",
       "      <td>4</td>\n",
       "      <td>Asus Zenfone 10 8/128GB - Comet White</td>\n",
       "      <td>8999000</td>\n",
       "      <td>4.8</td>\n",
       "      <td>50</td>\n",
       "    </tr>\n",
       "    <tr>\n",
       "      <th>4</th>\n",
       "      <td>5</td>\n",
       "      <td>Asus Zenfone 10 8/128GB - Midnight Black</td>\n",
       "      <td>8999000</td>\n",
       "      <td>4.9</td>\n",
       "      <td>100</td>\n",
       "    </tr>\n",
       "  </tbody>\n",
       "</table>\n",
       "</div>"
      ],
      "text/plain": [
       "   product_id                                      name    price rating sold\n",
       "0           1     Asus Zenfone 10 8/128GB - Starry Blue  8999000    4.8   60\n",
       "1           2    Asus Zenfone 10 8/128GB - Aurora Green  8999000    4.9   60\n",
       "2           3     Asus Zenfone 10 8/128GB - Eclipse Red  8999000    5.0   70\n",
       "3           4     Asus Zenfone 10 8/128GB - Comet White  8999000    4.8   50\n",
       "4           5  Asus Zenfone 10 8/128GB - Midnight Black  8999000    4.9  100"
      ]
     },
     "execution_count": 134,
     "metadata": {},
     "output_type": "execute_result"
    }
   ],
   "source": [
    "data = pd.DataFrame({'product_id':num_products,'name':names, 'price':prices, 'rating':ratings_overall, 'sold':solds})\n",
    "data = clean_analyst(data)\n",
    "data.head()"
   ]
  },
  {
   "cell_type": "code",
   "execution_count": 136,
   "metadata": {},
   "outputs": [
    {
     "name": "stdout",
     "output_type": "stream",
     "text": [
      "322\n",
      "322\n",
      "322\n"
     ]
    }
   ],
   "source": [
    "print(len(ratings))\n",
    "print(len(reviews))\n",
    "print(len(num_products1))"
   ]
  },
  {
   "cell_type": "code",
   "execution_count": null,
   "metadata": {},
   "outputs": [
    {
     "data": {
      "text/html": [
       "<div>\n",
       "<style scoped>\n",
       "    .dataframe tbody tr th:only-of-type {\n",
       "        vertical-align: middle;\n",
       "    }\n",
       "\n",
       "    .dataframe tbody tr th {\n",
       "        vertical-align: top;\n",
       "    }\n",
       "\n",
       "    .dataframe thead th {\n",
       "        text-align: right;\n",
       "    }\n",
       "</style>\n",
       "<table border=\"1\" class=\"dataframe\">\n",
       "  <thead>\n",
       "    <tr style=\"text-align: right;\">\n",
       "      <th></th>\n",
       "      <th>product_id</th>\n",
       "      <th>rating</th>\n",
       "      <th>review</th>\n",
       "    </tr>\n",
       "  </thead>\n",
       "  <tbody>\n",
       "    <tr>\n",
       "      <th>0</th>\n",
       "      <td>1</td>\n",
       "      <td>bintang 4</td>\n",
       "      <td>sesuai pesanan, semoga awet</td>\n",
       "    </tr>\n",
       "    <tr>\n",
       "      <th>1</th>\n",
       "      <td>1</td>\n",
       "      <td>bintang 5</td>\n",
       "      <td>mantap lah utk brg ori dan segel. casing bawaa...</td>\n",
       "    </tr>\n",
       "    <tr>\n",
       "      <th>2</th>\n",
       "      <td>1</td>\n",
       "      <td>bintang 5</td>\n",
       "      <td>paking aman dan rapi \\ndapat discount pula</td>\n",
       "    </tr>\n",
       "    <tr>\n",
       "      <th>3</th>\n",
       "      <td>1</td>\n",
       "      <td>bintang 4</td>\n",
       "      <td>Dalam hal pengiriman, barangnya sampai dirumah...</td>\n",
       "    </tr>\n",
       "    <tr>\n",
       "      <th>4</th>\n",
       "      <td>1</td>\n",
       "      <td>bintang 5</td>\n",
       "      <td>penjual oke mantap, gercep bantu ketika ada ke...</td>\n",
       "    </tr>\n",
       "  </tbody>\n",
       "</table>\n",
       "</div>"
      ],
      "text/plain": [
       "   product_id     rating                                             review\n",
       "0           1  bintang 4                        sesuai pesanan, semoga awet\n",
       "1           1  bintang 5  mantap lah utk brg ori dan segel. casing bawaa...\n",
       "2           1  bintang 5         paking aman dan rapi \\ndapat discount pula\n",
       "3           1  bintang 4  Dalam hal pengiriman, barangnya sampai dirumah...\n",
       "4           1  bintang 5  penjual oke mantap, gercep bantu ketika ada ke..."
      ]
     },
     "execution_count": 123,
     "metadata": {},
     "output_type": "execute_result"
    }
   ],
   "source": [
    "data1 = pd.DataFrame({'product_id':num_products1, 'rating':ratings, 'review':reviews})\n",
    "data1 = clean_review(data1)"
   ]
  },
  {
   "cell_type": "code",
   "execution_count": null,
   "metadata": {},
   "outputs": [
    {
     "name": "stdout",
     "output_type": "stream",
     "text": [
      "<class 'pandas.core.frame.DataFrame'>\n",
      "RangeIndex: 400 entries, 0 to 399\n",
      "Data columns (total 3 columns):\n",
      " #   Column      Non-Null Count  Dtype \n",
      "---  ------      --------------  ----- \n",
      " 0   product_id  400 non-null    int64 \n",
      " 1   rating      400 non-null    object\n",
      " 2   review      384 non-null    object\n",
      "dtypes: int64(1), object(2)\n",
      "memory usage: 9.5+ KB\n"
     ]
    }
   ],
   "source": [
    "data1.info()"
   ]
  }
 ],
 "metadata": {
  "kernelspec": {
   "display_name": "base",
   "language": "python",
   "name": "python3"
  },
  "language_info": {
   "codemirror_mode": {
    "name": "ipython",
    "version": 3
   },
   "file_extension": ".py",
   "mimetype": "text/x-python",
   "name": "python",
   "nbconvert_exporter": "python",
   "pygments_lexer": "ipython3",
   "version": "3.12.4"
  }
 },
 "nbformat": 4,
 "nbformat_minor": 2
}
