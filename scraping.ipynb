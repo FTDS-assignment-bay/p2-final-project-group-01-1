{
 "cells": [
  {
   "cell_type": "code",
   "execution_count": 6,
   "metadata": {},
   "outputs": [],
   "source": [
    "import pandas as pd\n",
    "from selenium.webdriver.common.by import By\n",
    "from selenium.webdriver.support.ui import WebDriverWait\n",
    "from selenium.webdriver.support import expected_conditions as EC\n",
    "from bs4 import BeautifulSoup\n",
    "from selenium import webdriver\n",
    "import time"
   ]
  },
  {
   "cell_type": "code",
   "execution_count": 118,
   "metadata": {},
   "outputs": [
    {
     "name": "stdout",
     "output_type": "stream",
     "text": [
      "Scraping complete.\n"
     ]
    }
   ],
   "source": [
    "driver = webdriver.Chrome()\n",
    "\n",
    "names, prices, num_products, ratings_overall, solds = [], [], [], [], []\n",
    "ratings, reviews, num_products1 = [], [], []\n",
    "table_data = {}\n",
    "\n",
    "url = 'https://www.tokopedia.com/officialinfinix/etalase/note-series'\n",
    "driver.get(url)\n",
    "\n",
    "# Scroll to load products\n",
    "for scroll in range(6):\n",
    "    driver.execute_script(\"window.scrollBy(0,1000)\")\n",
    "    time.sleep(1)\n",
    "\n",
    "html = driver.page_source\n",
    "soup = BeautifulSoup(html, 'html.parser')\n",
    "\n",
    "products = 1\n",
    "pro = 1\n",
    "for x in soup.find_all('div', {'class': 'css-1sn1xa2'}):\n",
    "    try:\n",
    "        # Get product name and price\n",
    "        name = x.find('div', {'class': 'prd_link-product-name css-3um8ox'})\n",
    "        price = x.find('div', {'class': 'prd_link-product-price css-h66vau'})\n",
    "        rating_overall = x.find('span', {'class' : 'prd_rating-average-text css-t70v7i'})\n",
    "        sold = x.find('span', {'class': 'prd_label-integrity css-1sgek4h'})\n",
    "\n",
    "        names.append(name.get_text() if name else None)\n",
    "        prices.append(price.get_text() if price else None)\n",
    "        ratings_overall.append(rating_overall.get_text() if rating_overall else None)\n",
    "        solds.append(sold.get_text() if sold else None)\n",
    "        num_products.append(products)\n",
    "        products += 1\n",
    "        \n",
    "        # Navigate to product page\n",
    "        link = x.find('a')['href']\n",
    "        \n",
    "        if link:\n",
    "            driver.get(link)\n",
    "            \n",
    "            # Scroll reviews\n",
    "            for scroll in range(20):\n",
    "                driver.execute_script(\"window.scrollBy(0,300)\")\n",
    "                time.sleep(1)\n",
    "\n",
    "            html = driver.page_source\n",
    "            soup = BeautifulSoup(html, 'html.parser')\n",
    "\n",
    "            # Ratings and reviews\n",
    "            for z in soup.find_all('div', {'class': \"css-1k41fl7\"}):\n",
    "                rating = z.find('div', {'data-testid': 'icnStarRating'})\n",
    "                review = z.find('span', {'data-testid': 'lblItemUlasan'})\n",
    "                \n",
    "                ratings.append(rating.get(\"aria-label\") if rating else None)\n",
    "                reviews.append(review.get_text() if review else None)\n",
    "                num_products1.append(pro)\n",
    "\n",
    "\n",
    "            pro += 1\n",
    "            \n",
    "    \n",
    "    except Exception as e:\n",
    "        print(f\"Error: {e}\")\n",
    "        continue\n",
    "\n",
    "driver.quit()\n",
    "print('Scraping complete.')\n"
   ]
  },
  {
   "cell_type": "code",
   "execution_count": 119,
   "metadata": {},
   "outputs": [
    {
     "name": "stdout",
     "output_type": "stream",
     "text": [
      "8\n",
      "8\n",
      "8\n",
      "8\n",
      "8\n"
     ]
    }
   ],
   "source": [
    "print(len(names))\n",
    "print(len(prices))\n",
    "print(len(num_products))\n",
    "print(len(ratings_overall))\n",
    "print(len(solds))"
   ]
  },
  {
   "cell_type": "code",
   "execution_count": 120,
   "metadata": {},
   "outputs": [
    {
     "data": {
      "text/html": [
       "<div>\n",
       "<style scoped>\n",
       "    .dataframe tbody tr th:only-of-type {\n",
       "        vertical-align: middle;\n",
       "    }\n",
       "\n",
       "    .dataframe tbody tr th {\n",
       "        vertical-align: top;\n",
       "    }\n",
       "\n",
       "    .dataframe thead th {\n",
       "        text-align: right;\n",
       "    }\n",
       "</style>\n",
       "<table border=\"1\" class=\"dataframe\">\n",
       "  <thead>\n",
       "    <tr style=\"text-align: right;\">\n",
       "      <th></th>\n",
       "      <th>product_id</th>\n",
       "      <th>name</th>\n",
       "      <th>price</th>\n",
       "      <th>rating</th>\n",
       "      <th>sold</th>\n",
       "    </tr>\n",
       "  </thead>\n",
       "  <tbody>\n",
       "    <tr>\n",
       "      <th>0</th>\n",
       "      <td>1</td>\n",
       "      <td>Infinix Note 40 Pro+ 5G 12/256GB - Up to 24GB ...</td>\n",
       "      <td>Rp3.949.000</td>\n",
       "      <td>4.9</td>\n",
       "      <td>250+ terjual</td>\n",
       "    </tr>\n",
       "    <tr>\n",
       "      <th>1</th>\n",
       "      <td>2</td>\n",
       "      <td>Infinix Note 40S 8/256GB - Up to 16GB Extended...</td>\n",
       "      <td>Rp3.099.000</td>\n",
       "      <td>4.9</td>\n",
       "      <td>500+ terjual</td>\n",
       "    </tr>\n",
       "    <tr>\n",
       "      <th>2</th>\n",
       "      <td>3</td>\n",
       "      <td>Infinix Note 40 Pro 5G 8/256GB - Up to 16GB Ex...</td>\n",
       "      <td>Rp3.799.000</td>\n",
       "      <td>4.9</td>\n",
       "      <td>1rb+ terjual</td>\n",
       "    </tr>\n",
       "    <tr>\n",
       "      <th>3</th>\n",
       "      <td>4</td>\n",
       "      <td>Infinix Note 40 Pro 8/256GB - Up to 16GB Exten...</td>\n",
       "      <td>Rp3.499.000</td>\n",
       "      <td>4.9</td>\n",
       "      <td>2rb+ terjual</td>\n",
       "    </tr>\n",
       "    <tr>\n",
       "      <th>4</th>\n",
       "      <td>5</td>\n",
       "      <td>Infinix Note 40 8/256GB - Up to 16GB Extended ...</td>\n",
       "      <td>Rp2.999.000</td>\n",
       "      <td>4.9</td>\n",
       "      <td>2rb+ terjual</td>\n",
       "    </tr>\n",
       "  </tbody>\n",
       "</table>\n",
       "</div>"
      ],
      "text/plain": [
       "   product_id                                               name        price  \\\n",
       "0           1  Infinix Note 40 Pro+ 5G 12/256GB - Up to 24GB ...  Rp3.949.000   \n",
       "1           2  Infinix Note 40S 8/256GB - Up to 16GB Extended...  Rp3.099.000   \n",
       "2           3  Infinix Note 40 Pro 5G 8/256GB - Up to 16GB Ex...  Rp3.799.000   \n",
       "3           4  Infinix Note 40 Pro 8/256GB - Up to 16GB Exten...  Rp3.499.000   \n",
       "4           5  Infinix Note 40 8/256GB - Up to 16GB Extended ...  Rp2.999.000   \n",
       "\n",
       "  rating          sold  \n",
       "0    4.9  250+ terjual  \n",
       "1    4.9  500+ terjual  \n",
       "2    4.9  1rb+ terjual  \n",
       "3    4.9  2rb+ terjual  \n",
       "4    4.9  2rb+ terjual  "
      ]
     },
     "execution_count": 120,
     "metadata": {},
     "output_type": "execute_result"
    }
   ],
   "source": [
    "data = pd.DataFrame({'product_id':num_products,'name':names, 'price':prices, 'rating':ratings_overall, 'sold':solds})\n",
    "data.head()"
   ]
  },
  {
   "cell_type": "code",
   "execution_count": 121,
   "metadata": {},
   "outputs": [
    {
     "name": "stdout",
     "output_type": "stream",
     "text": [
      "<class 'pandas.core.frame.DataFrame'>\n",
      "RangeIndex: 8 entries, 0 to 7\n",
      "Data columns (total 5 columns):\n",
      " #   Column      Non-Null Count  Dtype \n",
      "---  ------      --------------  ----- \n",
      " 0   product_id  8 non-null      int64 \n",
      " 1   name        8 non-null      object\n",
      " 2   price       8 non-null      object\n",
      " 3   rating      8 non-null      object\n",
      " 4   sold        8 non-null      object\n",
      "dtypes: int64(1), object(4)\n",
      "memory usage: 452.0+ bytes\n"
     ]
    }
   ],
   "source": [
    "data.info()"
   ]
  },
  {
   "cell_type": "code",
   "execution_count": 122,
   "metadata": {},
   "outputs": [
    {
     "name": "stdout",
     "output_type": "stream",
     "text": [
      "400\n",
      "400\n",
      "400\n"
     ]
    }
   ],
   "source": [
    "print(len(ratings))\n",
    "print(len(reviews))\n",
    "print(len(num_products1))"
   ]
  },
  {
   "cell_type": "code",
   "execution_count": 123,
   "metadata": {},
   "outputs": [
    {
     "data": {
      "text/html": [
       "<div>\n",
       "<style scoped>\n",
       "    .dataframe tbody tr th:only-of-type {\n",
       "        vertical-align: middle;\n",
       "    }\n",
       "\n",
       "    .dataframe tbody tr th {\n",
       "        vertical-align: top;\n",
       "    }\n",
       "\n",
       "    .dataframe thead th {\n",
       "        text-align: right;\n",
       "    }\n",
       "</style>\n",
       "<table border=\"1\" class=\"dataframe\">\n",
       "  <thead>\n",
       "    <tr style=\"text-align: right;\">\n",
       "      <th></th>\n",
       "      <th>product_id</th>\n",
       "      <th>rating</th>\n",
       "      <th>review</th>\n",
       "    </tr>\n",
       "  </thead>\n",
       "  <tbody>\n",
       "    <tr>\n",
       "      <th>0</th>\n",
       "      <td>1</td>\n",
       "      <td>bintang 4</td>\n",
       "      <td>sesuai pesanan, semoga awet</td>\n",
       "    </tr>\n",
       "    <tr>\n",
       "      <th>1</th>\n",
       "      <td>1</td>\n",
       "      <td>bintang 5</td>\n",
       "      <td>mantap lah utk brg ori dan segel. casing bawaa...</td>\n",
       "    </tr>\n",
       "    <tr>\n",
       "      <th>2</th>\n",
       "      <td>1</td>\n",
       "      <td>bintang 5</td>\n",
       "      <td>paking aman dan rapi \\ndapat discount pula</td>\n",
       "    </tr>\n",
       "    <tr>\n",
       "      <th>3</th>\n",
       "      <td>1</td>\n",
       "      <td>bintang 4</td>\n",
       "      <td>Dalam hal pengiriman, barangnya sampai dirumah...</td>\n",
       "    </tr>\n",
       "    <tr>\n",
       "      <th>4</th>\n",
       "      <td>1</td>\n",
       "      <td>bintang 5</td>\n",
       "      <td>penjual oke mantap, gercep bantu ketika ada ke...</td>\n",
       "    </tr>\n",
       "  </tbody>\n",
       "</table>\n",
       "</div>"
      ],
      "text/plain": [
       "   product_id     rating                                             review\n",
       "0           1  bintang 4                        sesuai pesanan, semoga awet\n",
       "1           1  bintang 5  mantap lah utk brg ori dan segel. casing bawaa...\n",
       "2           1  bintang 5         paking aman dan rapi \\ndapat discount pula\n",
       "3           1  bintang 4  Dalam hal pengiriman, barangnya sampai dirumah...\n",
       "4           1  bintang 5  penjual oke mantap, gercep bantu ketika ada ke..."
      ]
     },
     "execution_count": 123,
     "metadata": {},
     "output_type": "execute_result"
    }
   ],
   "source": [
    "data1 = pd.DataFrame({'product_id':num_products1, 'rating':ratings, 'review':reviews})\n",
    "data1.head()"
   ]
  },
  {
   "cell_type": "code",
   "execution_count": 124,
   "metadata": {},
   "outputs": [
    {
     "name": "stdout",
     "output_type": "stream",
     "text": [
      "<class 'pandas.core.frame.DataFrame'>\n",
      "RangeIndex: 400 entries, 0 to 399\n",
      "Data columns (total 3 columns):\n",
      " #   Column      Non-Null Count  Dtype \n",
      "---  ------      --------------  ----- \n",
      " 0   product_id  400 non-null    int64 \n",
      " 1   rating      400 non-null    object\n",
      " 2   review      384 non-null    object\n",
      "dtypes: int64(1), object(2)\n",
      "memory usage: 9.5+ KB\n"
     ]
    }
   ],
   "source": [
    "data1.info()"
   ]
  },
  {
   "cell_type": "code",
   "execution_count": 125,
   "metadata": {},
   "outputs": [
    {
     "data": {
      "text/plain": [
       "product_id\n",
       "1    50\n",
       "2    50\n",
       "3    50\n",
       "4    50\n",
       "5    50\n",
       "6    50\n",
       "7    50\n",
       "8    50\n",
       "Name: count, dtype: int64"
      ]
     },
     "execution_count": 125,
     "metadata": {},
     "output_type": "execute_result"
    }
   ],
   "source": [
    "data1.product_id.value_counts()"
   ]
  },
  {
   "cell_type": "code",
   "execution_count": 126,
   "metadata": {},
   "outputs": [],
   "source": [
    "data.to_csv('infinix_analyst.csv', index=False)\n",
    "data1.to_csv('infinix_scientist.csv', index=False)"
   ]
  }
 ],
 "metadata": {
  "kernelspec": {
   "display_name": "base",
   "language": "python",
   "name": "python3"
  },
  "language_info": {
   "codemirror_mode": {
    "name": "ipython",
    "version": 3
   },
   "file_extension": ".py",
   "mimetype": "text/x-python",
   "name": "python",
   "nbconvert_exporter": "python",
   "pygments_lexer": "ipython3",
   "version": "3.12.4"
  }
 },
 "nbformat": 4,
 "nbformat_minor": 2
}
